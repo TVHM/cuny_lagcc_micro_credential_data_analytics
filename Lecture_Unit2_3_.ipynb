{
  "nbformat": 4,
  "nbformat_minor": 0,
  "metadata": {
    "colab": {
      "name": "Lecture Unit2.3 .ipynb",
      "provenance": [],
      "include_colab_link": true
    },
    "kernelspec": {
      "name": "python3",
      "display_name": "Python 3"
    },
    "language_info": {
      "name": "python"
    }
  },
  "cells": [
    {
      "cell_type": "markdown",
      "metadata": {
        "id": "view-in-github",
        "colab_type": "text"
      },
      "source": [
        "<a href=\"https://colab.research.google.com/github/TVHM/cuny_lagcc_micro_credential_data_analytics/blob/main/Lecture_Unit2_3_.ipynb\" target=\"_parent\"><img src=\"https://colab.research.google.com/assets/colab-badge.svg\" alt=\"Open In Colab\"/></a>"
      ]
    },
    {
      "cell_type": "markdown",
      "source": [
        "# Store the names in a variable"
      ],
      "metadata": {
        "id": "Z4S0e9vnzRTQ"
      }
    },
    {
      "cell_type": "code",
      "execution_count": null,
      "metadata": {
        "colab": {
          "base_uri": "https://localhost:8080/"
        },
        "id": "ELGWhrUCzAQj",
        "outputId": "e7c65e8b-7608-4212-fb16-cde060cfa49b"
      },
      "outputs": [
        {
          "output_type": "stream",
          "name": "stdout",
          "text": [
            "['mama', 'son', 'grand-daughter', 'me']\n"
          ]
        }
      ],
      "source": [
        "friends = [ 'mama','son','grand-daughter','me']\n",
        "print (friends)"
      ]
    },
    {
      "cell_type": "code",
      "source": [
        "friends [0]"
      ],
      "metadata": {
        "colab": {
          "base_uri": "https://localhost:8080/",
          "height": 36
        },
        "id": "uM4PKp8GzvZ3",
        "outputId": "4cd31c81-1717-4ecb-a53b-4c19cc7d719e"
      },
      "execution_count": null,
      "outputs": [
        {
          "output_type": "execute_result",
          "data": {
            "text/plain": [
              "'mama'"
            ],
            "application/vnd.google.colaboratory.intrinsic+json": {
              "type": "string"
            }
          },
          "metadata": {},
          "execution_count": 2
        }
      ]
    },
    {
      "cell_type": "code",
      "source": [
        "friends [1]"
      ],
      "metadata": {
        "colab": {
          "base_uri": "https://localhost:8080/",
          "height": 36
        },
        "id": "T6sqk8mGz7NA",
        "outputId": "ac227081-c777-4cad-cfba-e2846f0a4a7a"
      },
      "execution_count": null,
      "outputs": [
        {
          "output_type": "execute_result",
          "data": {
            "text/plain": [
              "'son'"
            ],
            "application/vnd.google.colaboratory.intrinsic+json": {
              "type": "string"
            }
          },
          "metadata": {},
          "execution_count": 3
        }
      ]
    },
    {
      "cell_type": "code",
      "source": [
        "print (friends[3].upper())"
      ],
      "metadata": {
        "colab": {
          "base_uri": "https://localhost:8080/"
        },
        "id": "kfUmDLlpz9r2",
        "outputId": "9b2a31b4-32b2-478c-84c0-b4880c2f7e45"
      },
      "execution_count": null,
      "outputs": [
        {
          "output_type": "stream",
          "name": "stdout",
          "text": [
            "ME\n"
          ]
        }
      ]
    },
    {
      "cell_type": "code",
      "source": [
        ""
      ],
      "metadata": {
        "id": "FODIGswe0HrN"
      },
      "execution_count": null,
      "outputs": []
    },
    {
      "cell_type": "code",
      "source": [
        "# print message\n",
        "\n"
      ],
      "metadata": {
        "id": "Bv-bo0do0nXh"
      },
      "execution_count": null,
      "outputs": []
    },
    {
      "cell_type": "code",
      "execution_count": null,
      "metadata": {
        "colab": {
          "base_uri": "https://localhost:8080/"
        },
        "outputId": "7e4c8106-ce4f-41c6-f6db-f483ed42039b",
        "id": "zh0Nyf960xMk"
      },
      "outputs": [
        {
          "output_type": "stream",
          "name": "stdout",
          "text": [
            "My favorite friend is MAMA!!!\n"
          ]
        }
      ],
      "source": [
        "friends = ['mama','son','grand-daughter','me']\n",
        "message = \"My favorite friend is \" + friends[0].upper() + \"!!!\"\n",
        "print(message)"
      ]
    },
    {
      "cell_type": "markdown",
      "source": [
        "#Modify Lists"
      ],
      "metadata": {
        "id": "sP65DpmZ3qfS"
      }
    },
    {
      "cell_type": "code",
      "source": [
        "favorite_foods = ['avacado','strawberries','bananas']\n",
        "print(favorite_foods) "
      ],
      "metadata": {
        "colab": {
          "base_uri": "https://localhost:8080/"
        },
        "id": "EEik8hLh0nEd",
        "outputId": "9400482c-4074-461a-9ea1-e354ed552f74"
      },
      "execution_count": null,
      "outputs": [
        {
          "output_type": "stream",
          "name": "stdout",
          "text": [
            "['avacado', 'strawberries', 'bananas']\n"
          ]
        }
      ]
    },
    {
      "cell_type": "code",
      "source": [
        "favorite_foods.insert(2, 'mango')\n",
        "print(favorite_foods)"
      ],
      "metadata": {
        "colab": {
          "base_uri": "https://localhost:8080/"
        },
        "id": "DrMlmPJ74OHa",
        "outputId": "65e7cc97-a30e-4774-dfff-1b833f84a005"
      },
      "execution_count": null,
      "outputs": [
        {
          "output_type": "stream",
          "name": "stdout",
          "text": [
            "['avacado', 'strawberries', 'mango']\n"
          ]
        }
      ]
    },
    {
      "cell_type": "code",
      "source": [
        ""
      ],
      "metadata": {
        "id": "kn-Pj8OY4pHC"
      },
      "execution_count": null,
      "outputs": []
    },
    {
      "cell_type": "markdown",
      "source": [
        "#Sorting a list\n"
      ],
      "metadata": {
        "id": "UUo6Gv9NAeeE"
      }
    },
    {
      "cell_type": "code",
      "source": [
        "travel = ['Spain','Kenya','St. Petersburg', 'London','Portland'] \n",
        "print(travel)\n",
        "travel.sort() \n",
        "print(travel)\n",
        "travel.sort(reverse=True)\n",
        "print(travel)"
      ],
      "metadata": {
        "colab": {
          "base_uri": "https://localhost:8080/"
        },
        "id": "LLNqBCSnAknO",
        "outputId": "54bcdb38-7811-417a-b7b7-c69ffe0a3b36"
      },
      "execution_count": null,
      "outputs": [
        {
          "output_type": "stream",
          "name": "stdout",
          "text": [
            "['Spain', 'Kenya', 'St. Petersburg', 'London', 'Portland']\n",
            "['Kenya', 'London', 'Portland', 'Spain', 'St. Petersburg']\n",
            "['St. Petersburg', 'Spain', 'Portland', 'London', 'Kenya']\n"
          ]
        }
      ]
    },
    {
      "cell_type": "code",
      "source": [
        "# temporary sorting sorted\n",
        "print(travel)"
      ],
      "metadata": {
        "colab": {
          "base_uri": "https://localhost:8080/"
        },
        "id": "un3CxbeGC5fR",
        "outputId": "d2d441a0-0b9b-4a46-b33b-e361fdc27e56"
      },
      "execution_count": null,
      "outputs": [
        {
          "output_type": "stream",
          "name": "stdout",
          "text": [
            "['St. Petersburg', 'Spain', 'Portland', 'London', 'Kenya']\n"
          ]
        }
      ]
    },
    {
      "cell_type": "code",
      "source": [
        "print(sorted(travel))"
      ],
      "metadata": {
        "colab": {
          "base_uri": "https://localhost:8080/"
        },
        "id": "Lfr_D8tuELSL",
        "outputId": "1f25678b-d029-4709-e910-78ca09fe0c4f"
      },
      "execution_count": null,
      "outputs": [
        {
          "output_type": "stream",
          "name": "stdout",
          "text": [
            "['Kenya', 'London', 'Portland', 'Spain', 'St. Petersburg']\n"
          ]
        }
      ]
    },
    {
      "cell_type": "code",
      "source": [
        "print(travel)"
      ],
      "metadata": {
        "colab": {
          "base_uri": "https://localhost:8080/"
        },
        "id": "fFbotfohEUP-",
        "outputId": "2d34e767-da4b-47b0-97e1-b63167fd2157"
      },
      "execution_count": null,
      "outputs": [
        {
          "output_type": "stream",
          "name": "stdout",
          "text": [
            "['St. Petersburg', 'Spain', 'Portland', 'London', 'Kenya']\n"
          ]
        }
      ]
    },
    {
      "cell_type": "code",
      "source": [
        ""
      ],
      "metadata": {
        "id": "R2spSR04EZij"
      },
      "execution_count": null,
      "outputs": []
    },
    {
      "cell_type": "code",
      "source": [
        "#sorting \n",
        "a = (\"b\", \"g\", \"a\", \"d\", \"f\", \"c\", \"h\", \"e\")\n",
        "x = sorted(a)\n",
        "print (x)\n",
        "print (a)\n"
      ],
      "metadata": {
        "id": "5KG7_l_L4wPU"
      },
      "execution_count": null,
      "outputs": []
    },
    {
      "cell_type": "markdown",
      "source": [
        "#Looping\n"
      ],
      "metadata": {
        "id": "HBd8fqa0G586"
      }
    },
    {
      "cell_type": "code",
      "source": [
        "travel = ['Spain','Kenya','St. Petersburg', 'London','Portland'] "
      ],
      "metadata": {
        "id": "o36mepVKG-fH"
      },
      "execution_count": null,
      "outputs": []
    },
    {
      "cell_type": "markdown",
      "source": [
        "adding to previous for loop\n"
      ],
      "metadata": {
        "id": "CP0UShDdJwSJ"
      }
    },
    {
      "cell_type": "code",
      "source": [
        "for show in tvshows\n",
        "print(show.title() + \", statement\\n\" + show.upper() + \"statement\\n\""
      ],
      "metadata": {
        "id": "hYzyMUJ6J1XX"
      },
      "execution_count": null,
      "outputs": []
    },
    {
      "cell_type": "markdown",
      "source": [
        "#Exercise Make a list of 5 of your favorite foods use for loop print out each name.  Modify for loop add a sentence using the name of the - pizza is my favorite food, add print outside of your loop that will print when your loop ends"
      ],
      "metadata": {
        "id": "Kb4GzNclLTog"
      }
    },
    {
      "cell_type": "code",
      "source": [
        "favorite_foods = ['avacado','strawberries','bananas']\n",
        "for show in favorite_foods:\n",
        "  print(show)\n",
        "\n"
      ],
      "metadata": {
        "colab": {
          "base_uri": "https://localhost:8080/"
        },
        "id": "H2mU3Np8L1rZ",
        "outputId": "d1beb6bd-fc5e-456d-a0b1-7661ae3eb109"
      },
      "execution_count": null,
      "outputs": [
        {
          "output_type": "stream",
          "name": "stdout",
          "text": [
            "avacado\n",
            "strawberries\n",
            "bananas\n"
          ]
        }
      ]
    },
    {
      "cell_type": "code",
      "source": [
        "#add a sentence\n",
        "for show in favorite_foods:\n",
        "  print(show.title()+ \" ,is one of my favorite foods \")"
      ],
      "metadata": {
        "colab": {
          "base_uri": "https://localhost:8080/"
        },
        "id": "4hd6nntsMsVU",
        "outputId": "3da7836a-fa00-4854-bcb2-6a9a4162d212"
      },
      "execution_count": null,
      "outputs": [
        {
          "output_type": "stream",
          "name": "stdout",
          "text": [
            "Avacado ,is one of my favorite foods \n",
            "Strawberries ,is one of my favorite foods \n",
            "Bananas ,is one of my favorite foods \n"
          ]
        }
      ]
    },
    {
      "cell_type": "code",
      "source": [
        "#for loop outside of the loop I cant wait to eat it again\n"
      ],
      "metadata": {
        "id": "i3HeafpINNKf"
      },
      "execution_count": null,
      "outputs": []
    },
    {
      "cell_type": "code",
      "source": [
        "for show in favorite_foods:\n",
        "  print(show.title()+ \" ,is one of my favorite foods\\n I can't wait to eat it \" + \"again\\n\")"
      ],
      "metadata": {
        "colab": {
          "base_uri": "https://localhost:8080/"
        },
        "outputId": "fa78219f-976a-4919-9e16-cd0821df730d",
        "id": "w0yUAUzcN77z"
      },
      "execution_count": null,
      "outputs": [
        {
          "output_type": "stream",
          "name": "stdout",
          "text": [
            "Avacado ,is one of my favorite foods\n",
            " I can't wait to eat it again\n",
            "\n",
            "Strawberries ,is one of my favorite foods\n",
            " I can't wait to eat it again\n",
            "\n",
            "Bananas ,is one of my favorite foods\n",
            " I can't wait to eat it again\n",
            "\n"
          ]
        }
      ]
    },
    {
      "cell_type": "markdown",
      "source": [
        "#Looping numbers "
      ],
      "metadata": {
        "id": "2YsZ9e87Ouvg"
      }
    },
    {
      "cell_type": "code",
      "source": [
        " "
      ],
      "metadata": {
        "id": "WpHR2vkROIgQ"
      },
      "execution_count": null,
      "outputs": []
    },
    {
      "cell_type": "markdown",
      "source": [
        "range function used to make a list numbers in list  > numbers = list(range(1,11)) and to take another argument numbers = list(range(0,11, 2)) \n"
      ],
      "metadata": {
        "id": "xP8eRsi5O2bP"
      }
    },
    {
      "cell_type": "markdown",
      "source": [
        ""
      ],
      "metadata": {
        "id": "RGOOSAXPPB6_"
      }
    },
    {
      "cell_type": "code",
      "source": [
        "for num in range (1,21):\n",
        "  print (num)"
      ],
      "metadata": {
        "colab": {
          "base_uri": "https://localhost:8080/"
        },
        "id": "LX5IB3grPBof",
        "outputId": "bafa3e63-68b4-4621-a117-9801f6fd23a6"
      },
      "execution_count": null,
      "outputs": [
        {
          "output_type": "stream",
          "name": "stdout",
          "text": [
            "1\n",
            "2\n",
            "3\n",
            "4\n",
            "5\n",
            "6\n",
            "7\n",
            "8\n",
            "9\n",
            "10\n",
            "11\n",
            "12\n",
            "13\n",
            "14\n",
            "15\n",
            "16\n",
            "17\n",
            "18\n",
            "19\n",
            "20\n"
          ]
        }
      ]
    },
    {
      "cell_type": "code",
      "source": [
        "numbers = list(range(0,22))\n",
        "print(numbers)"
      ],
      "metadata": {
        "colab": {
          "base_uri": "https://localhost:8080/"
        },
        "id": "UtWlgim1Xm03",
        "outputId": "f8dbd589-ffbe-42f4-ac02-f9c84d1c68d6"
      },
      "execution_count": null,
      "outputs": [
        {
          "output_type": "stream",
          "name": "stdout",
          "text": [
            "[0, 1, 2, 3, 4, 5, 6, 7, 8, 9, 10, 11, 12, 13, 14, 15, 16, 17, 18, 19, 20, 21]\n"
          ]
        }
      ]
    },
    {
      "cell_type": "markdown",
      "source": [
        "#incorrect \n",
        "#print Odd and Even numbers from a list in Python \n"
      ],
      "metadata": {
        "id": "vz3yjkEffDzO"
      }
    },
    {
      "cell_type": "code",
      "source": [
        "#odd slide 18 the range function  takes another argument\n",
        "\n",
        "numbers = list(range(0, 21))\n",
        "print(numbers)"
      ],
      "metadata": {
        "colab": {
          "base_uri": "https://localhost:8080/"
        },
        "id": "41Yp3WIiY11J",
        "outputId": "3412e3d6-457d-45ca-8d60-954e3bb9592a"
      },
      "execution_count": null,
      "outputs": [
        {
          "output_type": "stream",
          "name": "stdout",
          "text": [
            "[0, 1, 2, 3, 4, 5, 6, 7, 8, 9, 10, 11, 12, 13, 14, 15, 16, 17, 18, 19, 20]\n"
          ]
        }
      ]
    },
    {
      "cell_type": "markdown",
      "source": [
        "Statistics \n",
        "minimum number \n",
        "maximum number \n",
        "sum \n"
      ],
      "metadata": {
        "id": "hYADWcz9PH1J"
      }
    },
    {
      "cell_type": "code",
      "source": [
        "numbers = list(range(0,11, 2))\n",
        "print(numbers)\n",
        "min(numbers)\n",
        "max(numbers)"
      ],
      "metadata": {
        "colab": {
          "base_uri": "https://localhost:8080/"
        },
        "id": "uLg53zkpef5w",
        "outputId": "a5d647e1-500e-4f80-b9ff-197f11bce62b"
      },
      "execution_count": null,
      "outputs": [
        {
          "output_type": "stream",
          "name": "stdout",
          "text": [
            "[0, 2, 4, 6, 8, 10]\n"
          ]
        },
        {
          "output_type": "execute_result",
          "data": {
            "text/plain": [
              "10"
            ]
          },
          "metadata": {},
          "execution_count": 68
        }
      ]
    },
    {
      "cell_type": "code",
      "source": [
        "sum(numbers)"
      ],
      "metadata": {
        "colab": {
          "base_uri": "https://localhost:8080/"
        },
        "id": "Na3D4pl-e9aP",
        "outputId": "1608837d-de1d-454d-94df-dcb24b3fe38a"
      },
      "execution_count": null,
      "outputs": [
        {
          "output_type": "execute_result",
          "data": {
            "text/plain": [
              "30"
            ]
          },
          "metadata": {},
          "execution_count": 69
        }
      ]
    },
    {
      "cell_type": "markdown",
      "source": [
        ""
      ],
      "metadata": {
        "id": "oJhBuO3LaXfO"
      }
    },
    {
      "cell_type": "markdown",
      "source": [
        "Slicing a list "
      ],
      "metadata": {
        "id": "8OU-gKtYPuvH"
      }
    },
    {
      "cell_type": "code",
      "source": [
        "           tvshows = ['star trek', 'walking dead', 'goodtimes']   \n",
        "           print(tvshows[0:3])                        "
      ],
      "metadata": {
        "colab": {
          "base_uri": "https://localhost:8080/"
        },
        "id": "jEQ1vSmlPxWX",
        "outputId": "5721c06a-3fd1-438a-c44b-a4b606868d64"
      },
      "execution_count": null,
      "outputs": [
        {
          "output_type": "stream",
          "name": "stdout",
          "text": [
            "['star trek', 'walking dead', 'goodtimes']\n"
          ]
        }
      ]
    },
    {
      "cell_type": "code",
      "source": [
        "print(tvshows[1:2]) "
      ],
      "metadata": {
        "colab": {
          "base_uri": "https://localhost:8080/"
        },
        "id": "4lvPDLezficD",
        "outputId": "66a24d61-18e8-4d26-bc78-4ad0f25d3d23"
      },
      "execution_count": null,
      "outputs": [
        {
          "output_type": "stream",
          "name": "stdout",
          "text": [
            "['walking dead']\n"
          ]
        }
      ]
    },
    {
      "cell_type": "code",
      "source": [
        "print(tvshows[:2])"
      ],
      "metadata": {
        "colab": {
          "base_uri": "https://localhost:8080/"
        },
        "id": "5uwY0aCXfnPc",
        "outputId": "b2bdd8a8-f2fd-4e53-97eb-55c539d0a6fc"
      },
      "execution_count": null,
      "outputs": [
        {
          "output_type": "stream",
          "name": "stdout",
          "text": [
            "['star trek', 'walking dead']\n"
          ]
        }
      ]
    },
    {
      "cell_type": "code",
      "source": [
        "print(tvshows[2:])"
      ],
      "metadata": {
        "colab": {
          "base_uri": "https://localhost:8080/"
        },
        "id": "AAXnaF18gFVk",
        "outputId": "ade6547e-9bd3-4b75-b19b-21a01a416184"
      },
      "execution_count": null,
      "outputs": [
        {
          "output_type": "stream",
          "name": "stdout",
          "text": [
            "['goodtimes']\n"
          ]
        }
      ]
    },
    {
      "cell_type": "code",
      "source": [
        "-"
      ],
      "metadata": {
        "id": "GXQYB1stgLOe"
      },
      "execution_count": null,
      "outputs": []
    },
    {
      "cell_type": "code",
      "source": [
        "tvshows = ['star trek', 'walking dead', 'goodtimes']   \n",
        "print(\"Some cool tv shows to watch\")\n",
        "for coolshows in tvshows[:2]:\n",
        "  print(coolshows.title())\n"
      ],
      "metadata": {
        "colab": {
          "base_uri": "https://localhost:8080/"
        },
        "id": "QpYMjhsGg51-",
        "outputId": "7f65fc1e-d7d4-451d-de69-ed06a33ff483"
      },
      "execution_count": null,
      "outputs": [
        {
          "output_type": "stream",
          "name": "stdout",
          "text": [
            "Some cool tv shows to watch\n",
            "Star Trek\n",
            "Walking Dead\n"
          ]
        }
      ]
    },
    {
      "cell_type": "markdown",
      "source": [
        "looping through the slice\n"
      ],
      "metadata": {
        "id": "CjXcxsjBgzXn"
      }
    },
    {
      "cell_type": "markdown",
      "source": [
        "#Control Flow  Conditional logics, loops and control flow concepts - page 37"
      ],
      "metadata": {
        "id": "SVvhnBDi8ord"
      }
    },
    {
      "cell_type": "code",
      "source": [
        "solarsystem = ['9']\n",
        "for planet in solarsystem: \n",
        "  if planet == '9':\n",
        "    print('solarsystem')\n",
        "  else:\n",
        "    print('outerspace')\n"
      ],
      "metadata": {
        "colab": {
          "base_uri": "https://localhost:8080/"
        },
        "id": "EfxIYTjyFbOJ",
        "outputId": "66aa0516-1d1c-4be8-9122-7d677b179505"
      },
      "execution_count": null,
      "outputs": [
        {
          "output_type": "stream",
          "name": "stdout",
          "text": [
            "solarsystem\n"
          ]
        }
      ]
    },
    {
      "cell_type": "markdown",
      "source": [
        "#Checking if a value exists in a list "
      ],
      "metadata": {
        "id": "ydp4umaJZAaw"
      }
    },
    {
      "cell_type": "code",
      "source": [
        ""
      ],
      "metadata": {
        "id": "OtfMCx_0NX33"
      },
      "execution_count": null,
      "outputs": []
    },
    {
      "cell_type": "code",
      "source": [
        "#checking if a value exists in a list\n",
        "solar_system = ['Sun','Mercury','Venus']\n",
        "'Venus' in solar_system"
      ],
      "metadata": {
        "id": "bMx8GCr9GJtk",
        "colab": {
          "base_uri": "https://localhost:8080/"
        },
        "outputId": "0f2cecf9-af56-47e2-808f-ed26a41b7523"
      },
      "execution_count": null,
      "outputs": [
        {
          "output_type": "execute_result",
          "data": {
            "text/plain": [
              "True"
            ]
          },
          "metadata": {},
          "execution_count": 16
        }
      ]
    },
    {
      "cell_type": "code",
      "source": [
        "#Check if value exists in a list with statement \n",
        "solar_system = ['Sun','Mercury','Venus']\n",
        "star = 'Sun'\n",
        "if star not in solar_system:\n",
        "  print(star.title() + \" ,was not in the list of bodies in the Solar System.\")"
      ],
      "metadata": {
        "id": "GFqtaicUODq-"
      },
      "execution_count": null,
      "outputs": []
    },
    {
      "cell_type": "code",
      "source": [
        "#numeric comparisons\n",
        "name_number_of_planets = 8\n",
        "if name_number_of_planets > 9:\n",
        "  print(\"Number of planets is 8\")\n",
        "else:\n",
        "    print (\"Number of planets is more than 8\")"
      ],
      "metadata": {
        "colab": {
          "base_uri": "https://localhost:8080/"
        },
        "id": "5elcBoZQPICJ",
        "outputId": "ba986b76-33f6-466d-bc8c-78c63271cb3f"
      },
      "execution_count": null,
      "outputs": [
        {
          "output_type": "stream",
          "name": "stdout",
          "text": [
            "Number of planets is more than 8\n"
          ]
        }
      ]
    },
    {
      "cell_type": "code",
      "source": [
        "#Checking for inequality \n",
        "solar_system = 'gravity'\n",
        "\n",
        "if solar_system != 'gravitational_collapse':\n",
        "   print ('outerspace')"
      ],
      "metadata": {
        "colab": {
          "base_uri": "https://localhost:8080/"
        },
        "id": "beO6rR6PQeP8",
        "outputId": "5acbaa5b-d2e1-4da5-d63b-a2e2a3603887"
      },
      "execution_count": null,
      "outputs": [
        {
          "output_type": "stream",
          "name": "stdout",
          "text": [
            "outerspace\n"
          ]
        }
      ]
    },
    {
      "cell_type": "markdown",
      "source": [
        "Multiple conditions - python accepts keywords to check multiple conditions - using and or operators "
      ],
      "metadata": {
        "id": "_xdHNjZMSU_V"
      }
    },
    {
      "cell_type": "code",
      "source": [
        "#Multiple conditions and or \n",
        "space_solar_system_size = 8\n",
        "space_outerspace_size = 100\n",
        "space_solar_system_size >= 6 or space_outerspace_size >= 7\n",
        "\n",
        "\n"
      ],
      "metadata": {
        "colab": {
          "base_uri": "https://localhost:8080/"
        },
        "id": "mxrHpraxRRGS",
        "outputId": "820041b0-d9db-4f31-be59-3d08445e2a3e"
      },
      "execution_count": null,
      "outputs": [
        {
          "output_type": "execute_result",
          "data": {
            "text/plain": [
              "True"
            ]
          },
          "metadata": {},
          "execution_count": 41
        }
      ]
    },
    {
      "cell_type": "markdown",
      "source": [
        "#simple if statement"
      ],
      "metadata": {
        "id": "EIG8UHYeS1bn"
      }
    },
    {
      "cell_type": "code",
      "source": [
        "age = 19\n",
        "if age >= 18:\n",
        "  print(\"You're old\")"
      ],
      "metadata": {
        "colab": {
          "base_uri": "https://localhost:8080/"
        },
        "id": "pPvigrdUS8t4",
        "outputId": "0253a814-16df-48bd-bcfe-915746a42ec9"
      },
      "execution_count": null,
      "outputs": [
        {
          "output_type": "stream",
          "name": "stdout",
          "text": [
            "You're old\n"
          ]
        }
      ]
    },
    {
      "cell_type": "markdown",
      "source": [
        "#If statements\n"
      ],
      "metadata": {
        "id": "kZVFIZDjTQMG"
      }
    },
    {
      "cell_type": "code",
      "source": [
        "#if else statements\n"
      ],
      "metadata": {
        "id": "ubtdMZ1mTJNv"
      },
      "execution_count": null,
      "outputs": []
    },
    {
      "cell_type": "markdown",
      "source": [
        "#If elif else "
      ],
      "metadata": {
        "id": "gG6vD-iWbKz5"
      }
    },
    {
      "cell_type": "code",
      "source": [
        "#if=elif-else elif checks another condition testing for more that two possible outcomes\n",
        "age = 32\n",
        "\n",
        "if age < 5:\n",
        "   print(\"Admission price is free\")\n",
        "elif age < 18:\n",
        "  print(\"Admission price is $5\")\n",
        "else:\n",
        "  print(\"Admission price is $10\")     \n",
        "\n"
      ],
      "metadata": {
        "colab": {
          "base_uri": "https://localhost:8080/"
        },
        "id": "1j94RdWnTRwu",
        "outputId": "6832960c-291d-4224-96d4-cc3aaac2abf4"
      },
      "execution_count": null,
      "outputs": [
        {
          "output_type": "stream",
          "name": "stdout",
          "text": [
            "Admission price is $10\n"
          ]
        }
      ]
    },
    {
      "cell_type": "markdown",
      "source": [
        "#a more optimized approach (if elif else  +string)"
      ],
      "metadata": {
        "id": "2W6E3mWkeEMR"
      }
    },
    {
      "cell_type": "code",
      "source": [
        "#more optimized approach (if elif else  +string)"
      ],
      "metadata": {
        "id": "wMnnVPifTaQl"
      },
      "execution_count": null,
      "outputs": []
    },
    {
      "cell_type": "code",
      "source": [
        "age = 17\n",
        "\n",
        "if age  < 4:\n",
        "  price = 0\n",
        "\n",
        "elif age < 18:\n",
        "  price = 5\n",
        "\n",
        "else:\n",
        "  price = 10\n",
        "\n",
        "print (\"Admission price is: \"+str(price))  "
      ],
      "metadata": {
        "colab": {
          "base_uri": "https://localhost:8080/"
        },
        "id": "ptLi7SLjT8ac",
        "outputId": "1a2b43e3-2281-4403-9ea2-f549057c2819"
      },
      "execution_count": null,
      "outputs": [
        {
          "output_type": "stream",
          "name": "stdout",
          "text": [
            "Admission price is: 5\n"
          ]
        }
      ]
    },
    {
      "cell_type": "code",
      "source": [
        " #multiple conditions, checking / testing several conditions - printing 2 lines\n",
        " toppings = ['chocolate','sprinkles']\n",
        "\n",
        " if 'chocolate'in toppings:\n",
        "   print(\"adding chocolate\")\n",
        " if 'sprinkles'in toppings:\n",
        "   print(\"adding spinkles\")  \n",
        " if 'peanuts'in toppings:\n",
        "   print(\"adding peanuts\")  "
      ],
      "metadata": {
        "colab": {
          "base_uri": "https://localhost:8080/"
        },
        "id": "-v2qGid6T85Y",
        "outputId": "38365275-3caa-4690-ecfd-59eb77ce264e"
      },
      "execution_count": null,
      "outputs": [
        {
          "output_type": "stream",
          "name": "stdout",
          "text": [
            "adding chocolate\n",
            "adding spinkles\n"
          ]
        }
      ]
    },
    {
      "cell_type": "markdown",
      "source": [
        "#if-else and for loops"
      ],
      "metadata": {
        "id": "iywD8HspXKDN"
      }
    },
    {
      "cell_type": "code",
      "source": [
        "#using if statements with list  ( will not execute line if false )\n",
        "toppings = ['chocolate' , 'sprinkles']\n",
        "for topping in toppings:\n",
        "    if toppings == 'chocolate':\n",
        "      print(\"All out of chocolate!\")\n",
        "    else:\n",
        "        print(\"Adding the following topping! \" + topping)      "
      ],
      "metadata": {
        "colab": {
          "base_uri": "https://localhost:8080/"
        },
        "id": "vFKHaERsUHIL",
        "outputId": "e739cda6-d421-435d-9dac-7f0e67df05fc"
      },
      "execution_count": null,
      "outputs": [
        {
          "output_type": "stream",
          "name": "stdout",
          "text": [
            "Adding the following topping! chocolate\n",
            "Adding the following topping! sprinkles\n"
          ]
        }
      ]
    },
    {
      "cell_type": "code",
      "source": [
        ""
      ],
      "metadata": {
        "id": "LHlB42vXUwVJ"
      },
      "execution_count": null,
      "outputs": []
    }
  ]
}