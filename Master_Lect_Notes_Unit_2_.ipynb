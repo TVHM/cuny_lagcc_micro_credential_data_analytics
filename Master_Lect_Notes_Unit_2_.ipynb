{
  "nbformat": 4,
  "nbformat_minor": 0,
  "metadata": {
    "colab": {
      "name": "Master Lect Notes Unit 2. .ipynb",
      "provenance": [],
      "include_colab_link": true
    },
    "kernelspec": {
      "name": "python3",
      "display_name": "Python 3"
    },
    "language_info": {
      "name": "python"
    }
  },
  "cells": [
    {
      "cell_type": "markdown",
      "metadata": {
        "id": "view-in-github",
        "colab_type": "text"
      },
      "source": [
        "<a href=\"https://colab.research.google.com/github/TVHM/cuny_lagcc_micro_credential_data_analytics/blob/main/Master_Lect_Notes_Unit_2_.ipynb\" target=\"_parent\"><img src=\"https://colab.research.google.com/assets/colab-badge.svg\" alt=\"Open In Colab\"/></a>"
      ]
    },
    {
      "cell_type": "markdown",
      "source": [
        "# Store the names in a variable and create a List"
      ],
      "metadata": {
        "id": "Z4S0e9vnzRTQ"
      }
    },
    {
      "cell_type": "code",
      "execution_count": null,
      "metadata": {
        "colab": {
          "base_uri": "https://localhost:8080/"
        },
        "id": "ELGWhrUCzAQj",
        "outputId": "e7c65e8b-7608-4212-fb16-cde060cfa49b"
      },
      "outputs": [
        {
          "output_type": "stream",
          "name": "stdout",
          "text": [
            "['mama', 'son', 'grand-daughter', 'me']\n"
          ]
        }
      ],
      "source": [
        "friends = [ 'mama','son','grand-daughter','me']\n",
        "print (friends)"
      ]
    },
    {
      "cell_type": "code",
      "source": [
        "friends [0]"
      ],
      "metadata": {
        "colab": {
          "base_uri": "https://localhost:8080/",
          "height": 36
        },
        "id": "uM4PKp8GzvZ3",
        "outputId": "4cd31c81-1717-4ecb-a53b-4c19cc7d719e"
      },
      "execution_count": null,
      "outputs": [
        {
          "output_type": "execute_result",
          "data": {
            "text/plain": [
              "'mama'"
            ],
            "application/vnd.google.colaboratory.intrinsic+json": {
              "type": "string"
            }
          },
          "metadata": {},
          "execution_count": 2
        }
      ]
    },
    {
      "cell_type": "code",
      "source": [
        "friends [1]"
      ],
      "metadata": {
        "colab": {
          "base_uri": "https://localhost:8080/",
          "height": 36
        },
        "id": "T6sqk8mGz7NA",
        "outputId": "ac227081-c777-4cad-cfba-e2846f0a4a7a"
      },
      "execution_count": null,
      "outputs": [
        {
          "output_type": "execute_result",
          "data": {
            "text/plain": [
              "'son'"
            ],
            "application/vnd.google.colaboratory.intrinsic+json": {
              "type": "string"
            }
          },
          "metadata": {},
          "execution_count": 3
        }
      ]
    },
    {
      "cell_type": "code",
      "source": [
        "print (friends[3].upper())"
      ],
      "metadata": {
        "colab": {
          "base_uri": "https://localhost:8080/"
        },
        "id": "kfUmDLlpz9r2",
        "outputId": "9b2a31b4-32b2-478c-84c0-b4880c2f7e45"
      },
      "execution_count": null,
      "outputs": [
        {
          "output_type": "stream",
          "name": "stdout",
          "text": [
            "ME\n"
          ]
        }
      ]
    },
    {
      "cell_type": "code",
      "source": [
        ""
      ],
      "metadata": {
        "id": "FODIGswe0HrN"
      },
      "execution_count": null,
      "outputs": []
    },
    {
      "cell_type": "code",
      "source": [
        "# print message\n",
        "\n"
      ],
      "metadata": {
        "id": "Bv-bo0do0nXh"
      },
      "execution_count": null,
      "outputs": []
    },
    {
      "cell_type": "code",
      "execution_count": null,
      "metadata": {
        "colab": {
          "base_uri": "https://localhost:8080/"
        },
        "outputId": "7e4c8106-ce4f-41c6-f6db-f483ed42039b",
        "id": "zh0Nyf960xMk"
      },
      "outputs": [
        {
          "output_type": "stream",
          "name": "stdout",
          "text": [
            "My favorite friend is MAMA!!!\n"
          ]
        }
      ],
      "source": [
        "friends = ['mama','son','grand-daughter','me']\n",
        "message = \"My favorite friend is \" + friends[0].upper() + \"!!!\"\n",
        "print(message)"
      ]
    },
    {
      "cell_type": "markdown",
      "source": [
        "#Modify Lists"
      ],
      "metadata": {
        "id": "sP65DpmZ3qfS"
      }
    },
    {
      "cell_type": "code",
      "source": [
        "favorite_foods = ['avacado','strawberries','bananas']\n",
        "print(favorite_foods) "
      ],
      "metadata": {
        "colab": {
          "base_uri": "https://localhost:8080/"
        },
        "id": "EEik8hLh0nEd",
        "outputId": "9400482c-4074-461a-9ea1-e354ed552f74"
      },
      "execution_count": null,
      "outputs": [
        {
          "output_type": "stream",
          "name": "stdout",
          "text": [
            "['avacado', 'strawberries', 'bananas']\n"
          ]
        }
      ]
    },
    {
      "cell_type": "code",
      "source": [
        "favorite_foods.insert(2, 'mango')\n",
        "print(favorite_foods)"
      ],
      "metadata": {
        "colab": {
          "base_uri": "https://localhost:8080/"
        },
        "id": "DrMlmPJ74OHa",
        "outputId": "65e7cc97-a30e-4774-dfff-1b833f84a005"
      },
      "execution_count": null,
      "outputs": [
        {
          "output_type": "stream",
          "name": "stdout",
          "text": [
            "['avacado', 'strawberries', 'mango']\n"
          ]
        }
      ]
    },
    {
      "cell_type": "code",
      "source": [
        ""
      ],
      "metadata": {
        "id": "kn-Pj8OY4pHC"
      },
      "execution_count": null,
      "outputs": []
    },
    {
      "cell_type": "markdown",
      "source": [
        "#Sorting a list\n"
      ],
      "metadata": {
        "id": "UUo6Gv9NAeeE"
      }
    },
    {
      "cell_type": "code",
      "source": [
        "travel = ['Spain','Kenya','St. Petersburg', 'London','Portland'] \n",
        "print(travel)\n",
        "travel.sort() \n",
        "print(travel)\n",
        "travel.sort(reverse=True)\n",
        "print(travel)"
      ],
      "metadata": {
        "colab": {
          "base_uri": "https://localhost:8080/"
        },
        "id": "LLNqBCSnAknO",
        "outputId": "54bcdb38-7811-417a-b7b7-c69ffe0a3b36"
      },
      "execution_count": null,
      "outputs": [
        {
          "output_type": "stream",
          "name": "stdout",
          "text": [
            "['Spain', 'Kenya', 'St. Petersburg', 'London', 'Portland']\n",
            "['Kenya', 'London', 'Portland', 'Spain', 'St. Petersburg']\n",
            "['St. Petersburg', 'Spain', 'Portland', 'London', 'Kenya']\n"
          ]
        }
      ]
    },
    {
      "cell_type": "code",
      "source": [
        "# temporary sorting sorted\n",
        "print(travel)"
      ],
      "metadata": {
        "colab": {
          "base_uri": "https://localhost:8080/"
        },
        "id": "un3CxbeGC5fR",
        "outputId": "d2d441a0-0b9b-4a46-b33b-e361fdc27e56"
      },
      "execution_count": null,
      "outputs": [
        {
          "output_type": "stream",
          "name": "stdout",
          "text": [
            "['St. Petersburg', 'Spain', 'Portland', 'London', 'Kenya']\n"
          ]
        }
      ]
    },
    {
      "cell_type": "code",
      "source": [
        "print(sorted(travel))"
      ],
      "metadata": {
        "colab": {
          "base_uri": "https://localhost:8080/"
        },
        "id": "Lfr_D8tuELSL",
        "outputId": "1f25678b-d029-4709-e910-78ca09fe0c4f"
      },
      "execution_count": null,
      "outputs": [
        {
          "output_type": "stream",
          "name": "stdout",
          "text": [
            "['Kenya', 'London', 'Portland', 'Spain', 'St. Petersburg']\n"
          ]
        }
      ]
    },
    {
      "cell_type": "code",
      "source": [
        "print(travel)"
      ],
      "metadata": {
        "colab": {
          "base_uri": "https://localhost:8080/"
        },
        "id": "fFbotfohEUP-",
        "outputId": "2d34e767-da4b-47b0-97e1-b63167fd2157"
      },
      "execution_count": null,
      "outputs": [
        {
          "output_type": "stream",
          "name": "stdout",
          "text": [
            "['St. Petersburg', 'Spain', 'Portland', 'London', 'Kenya']\n"
          ]
        }
      ]
    },
    {
      "cell_type": "code",
      "source": [
        ""
      ],
      "metadata": {
        "id": "R2spSR04EZij"
      },
      "execution_count": null,
      "outputs": []
    },
    {
      "cell_type": "code",
      "source": [
        "#sorting \n",
        "a = (\"b\", \"g\", \"a\", \"d\", \"f\", \"c\", \"h\", \"e\")\n",
        "x = sorted(a)\n",
        "print (x)\n",
        "print (a)\n"
      ],
      "metadata": {
        "id": "5KG7_l_L4wPU"
      },
      "execution_count": null,
      "outputs": []
    },
    {
      "cell_type": "markdown",
      "source": [
        "#Looping\n"
      ],
      "metadata": {
        "id": "HBd8fqa0G586"
      }
    },
    {
      "cell_type": "code",
      "source": [
        "travel = ['Spain','Kenya','St. Petersburg', 'London','Portland'] "
      ],
      "metadata": {
        "id": "o36mepVKG-fH"
      },
      "execution_count": null,
      "outputs": []
    },
    {
      "cell_type": "markdown",
      "source": [
        "adding to previous for loop\n"
      ],
      "metadata": {
        "id": "CP0UShDdJwSJ"
      }
    },
    {
      "cell_type": "code",
      "source": [
        "for show in tvshows\n",
        "print(show.title() + \", statement\\n\" + show.upper() + \"statement\\n\""
      ],
      "metadata": {
        "id": "hYzyMUJ6J1XX"
      },
      "execution_count": null,
      "outputs": []
    },
    {
      "cell_type": "markdown",
      "source": [
        "#Exercise Make a list of 5 of your favorite foods use for loop print out each name.  Modify for loop add a sentence using the name of the - pizza is my favorite food, add print outside of your loop that will print when your loop ends"
      ],
      "metadata": {
        "id": "Kb4GzNclLTog"
      }
    },
    {
      "cell_type": "code",
      "source": [
        "favorite_foods = ['avacado','strawberries','bananas']\n",
        "for show in favorite_foods:\n",
        "  print(show)\n",
        "\n"
      ],
      "metadata": {
        "colab": {
          "base_uri": "https://localhost:8080/"
        },
        "id": "H2mU3Np8L1rZ",
        "outputId": "d1beb6bd-fc5e-456d-a0b1-7661ae3eb109"
      },
      "execution_count": null,
      "outputs": [
        {
          "output_type": "stream",
          "name": "stdout",
          "text": [
            "avacado\n",
            "strawberries\n",
            "bananas\n"
          ]
        }
      ]
    },
    {
      "cell_type": "code",
      "source": [
        "#add a sentence\n",
        "for show in favorite_foods:\n",
        "  print(show.title()+ \" ,is one of my favorite foods \")"
      ],
      "metadata": {
        "colab": {
          "base_uri": "https://localhost:8080/"
        },
        "id": "4hd6nntsMsVU",
        "outputId": "3da7836a-fa00-4854-bcb2-6a9a4162d212"
      },
      "execution_count": null,
      "outputs": [
        {
          "output_type": "stream",
          "name": "stdout",
          "text": [
            "Avacado ,is one of my favorite foods \n",
            "Strawberries ,is one of my favorite foods \n",
            "Bananas ,is one of my favorite foods \n"
          ]
        }
      ]
    },
    {
      "cell_type": "code",
      "source": [
        "#for loop outside of the loop I cant wait to eat it again\n"
      ],
      "metadata": {
        "id": "i3HeafpINNKf"
      },
      "execution_count": null,
      "outputs": []
    },
    {
      "cell_type": "code",
      "source": [
        "for show in favorite_foods:\n",
        "  print(show.title()+ \" ,is one of my favorite foods\\n I can't wait to eat it \" + \"again\\n\")"
      ],
      "metadata": {
        "colab": {
          "base_uri": "https://localhost:8080/"
        },
        "outputId": "fa78219f-976a-4919-9e16-cd0821df730d",
        "id": "w0yUAUzcN77z"
      },
      "execution_count": null,
      "outputs": [
        {
          "output_type": "stream",
          "name": "stdout",
          "text": [
            "Avacado ,is one of my favorite foods\n",
            " I can't wait to eat it again\n",
            "\n",
            "Strawberries ,is one of my favorite foods\n",
            " I can't wait to eat it again\n",
            "\n",
            "Bananas ,is one of my favorite foods\n",
            " I can't wait to eat it again\n",
            "\n"
          ]
        }
      ]
    },
    {
      "cell_type": "markdown",
      "source": [
        "#Looping numbers "
      ],
      "metadata": {
        "id": "2YsZ9e87Ouvg"
      }
    },
    {
      "cell_type": "code",
      "source": [
        " "
      ],
      "metadata": {
        "id": "WpHR2vkROIgQ"
      },
      "execution_count": null,
      "outputs": []
    },
    {
      "cell_type": "markdown",
      "source": [
        "range function used to make a list numbers in list  > numbers = list(range(1,11)) and to take another argument numbers = list(range(0,11, 2)) \n"
      ],
      "metadata": {
        "id": "xP8eRsi5O2bP"
      }
    },
    {
      "cell_type": "markdown",
      "source": [
        ""
      ],
      "metadata": {
        "id": "RGOOSAXPPB6_"
      }
    },
    {
      "cell_type": "code",
      "source": [
        "for num in range (1,21):\n",
        "  print (num)"
      ],
      "metadata": {
        "colab": {
          "base_uri": "https://localhost:8080/"
        },
        "id": "LX5IB3grPBof",
        "outputId": "bafa3e63-68b4-4621-a117-9801f6fd23a6"
      },
      "execution_count": null,
      "outputs": [
        {
          "output_type": "stream",
          "name": "stdout",
          "text": [
            "1\n",
            "2\n",
            "3\n",
            "4\n",
            "5\n",
            "6\n",
            "7\n",
            "8\n",
            "9\n",
            "10\n",
            "11\n",
            "12\n",
            "13\n",
            "14\n",
            "15\n",
            "16\n",
            "17\n",
            "18\n",
            "19\n",
            "20\n"
          ]
        }
      ]
    },
    {
      "cell_type": "code",
      "source": [
        "numbers = list(range(0,22))\n",
        "print(numbers)"
      ],
      "metadata": {
        "colab": {
          "base_uri": "https://localhost:8080/"
        },
        "id": "UtWlgim1Xm03",
        "outputId": "f8dbd589-ffbe-42f4-ac02-f9c84d1c68d6"
      },
      "execution_count": null,
      "outputs": [
        {
          "output_type": "stream",
          "name": "stdout",
          "text": [
            "[0, 1, 2, 3, 4, 5, 6, 7, 8, 9, 10, 11, 12, 13, 14, 15, 16, 17, 18, 19, 20, 21]\n"
          ]
        }
      ]
    },
    {
      "cell_type": "markdown",
      "source": [
        "#incorrect \n",
        "#print Odd and Even numbers from a list in Python \n"
      ],
      "metadata": {
        "id": "vz3yjkEffDzO"
      }
    },
    {
      "cell_type": "code",
      "source": [
        "#odd slide 18 the range function  takes another argument\n",
        "\n",
        "numbers = list(range(0, 21))\n",
        "print(numbers)"
      ],
      "metadata": {
        "colab": {
          "base_uri": "https://localhost:8080/"
        },
        "id": "41Yp3WIiY11J",
        "outputId": "3412e3d6-457d-45ca-8d60-954e3bb9592a"
      },
      "execution_count": null,
      "outputs": [
        {
          "output_type": "stream",
          "name": "stdout",
          "text": [
            "[0, 1, 2, 3, 4, 5, 6, 7, 8, 9, 10, 11, 12, 13, 14, 15, 16, 17, 18, 19, 20]\n"
          ]
        }
      ]
    },
    {
      "cell_type": "markdown",
      "source": [
        "Statistics \n",
        "minimum number \n",
        "maximum number \n",
        "sum \n"
      ],
      "metadata": {
        "id": "hYADWcz9PH1J"
      }
    },
    {
      "cell_type": "code",
      "source": [
        "numbers = list(range(0,11, 2))\n",
        "print(numbers)\n",
        "min(numbers)\n",
        "max(numbers)"
      ],
      "metadata": {
        "colab": {
          "base_uri": "https://localhost:8080/"
        },
        "id": "uLg53zkpef5w",
        "outputId": "a5d647e1-500e-4f80-b9ff-197f11bce62b"
      },
      "execution_count": null,
      "outputs": [
        {
          "output_type": "stream",
          "name": "stdout",
          "text": [
            "[0, 2, 4, 6, 8, 10]\n"
          ]
        },
        {
          "output_type": "execute_result",
          "data": {
            "text/plain": [
              "10"
            ]
          },
          "metadata": {},
          "execution_count": 68
        }
      ]
    },
    {
      "cell_type": "code",
      "source": [
        "sum(numbers)"
      ],
      "metadata": {
        "colab": {
          "base_uri": "https://localhost:8080/"
        },
        "id": "Na3D4pl-e9aP",
        "outputId": "1608837d-de1d-454d-94df-dcb24b3fe38a"
      },
      "execution_count": null,
      "outputs": [
        {
          "output_type": "execute_result",
          "data": {
            "text/plain": [
              "30"
            ]
          },
          "metadata": {},
          "execution_count": 69
        }
      ]
    },
    {
      "cell_type": "markdown",
      "source": [
        ""
      ],
      "metadata": {
        "id": "oJhBuO3LaXfO"
      }
    },
    {
      "cell_type": "markdown",
      "source": [
        "Slicing a list "
      ],
      "metadata": {
        "id": "8OU-gKtYPuvH"
      }
    },
    {
      "cell_type": "code",
      "source": [
        "           tvshows = ['star trek', 'walking dead', 'goodtimes']   \n",
        "           print(tvshows[0:3])                        "
      ],
      "metadata": {
        "colab": {
          "base_uri": "https://localhost:8080/"
        },
        "id": "jEQ1vSmlPxWX",
        "outputId": "5721c06a-3fd1-438a-c44b-a4b606868d64"
      },
      "execution_count": null,
      "outputs": [
        {
          "output_type": "stream",
          "name": "stdout",
          "text": [
            "['star trek', 'walking dead', 'goodtimes']\n"
          ]
        }
      ]
    },
    {
      "cell_type": "code",
      "source": [
        "print(tvshows[1:2]) "
      ],
      "metadata": {
        "colab": {
          "base_uri": "https://localhost:8080/"
        },
        "id": "4lvPDLezficD",
        "outputId": "66a24d61-18e8-4d26-bc78-4ad0f25d3d23"
      },
      "execution_count": null,
      "outputs": [
        {
          "output_type": "stream",
          "name": "stdout",
          "text": [
            "['walking dead']\n"
          ]
        }
      ]
    },
    {
      "cell_type": "code",
      "source": [
        "print(tvshows[:2])"
      ],
      "metadata": {
        "colab": {
          "base_uri": "https://localhost:8080/"
        },
        "id": "5uwY0aCXfnPc",
        "outputId": "b2bdd8a8-f2fd-4e53-97eb-55c539d0a6fc"
      },
      "execution_count": null,
      "outputs": [
        {
          "output_type": "stream",
          "name": "stdout",
          "text": [
            "['star trek', 'walking dead']\n"
          ]
        }
      ]
    },
    {
      "cell_type": "code",
      "source": [
        "print(tvshows[2:])"
      ],
      "metadata": {
        "colab": {
          "base_uri": "https://localhost:8080/"
        },
        "id": "AAXnaF18gFVk",
        "outputId": "ade6547e-9bd3-4b75-b19b-21a01a416184"
      },
      "execution_count": null,
      "outputs": [
        {
          "output_type": "stream",
          "name": "stdout",
          "text": [
            "['goodtimes']\n"
          ]
        }
      ]
    },
    {
      "cell_type": "code",
      "source": [
        "-"
      ],
      "metadata": {
        "id": "GXQYB1stgLOe"
      },
      "execution_count": null,
      "outputs": []
    },
    {
      "cell_type": "code",
      "source": [
        "tvshows = ['star trek', 'walking dead', 'goodtimes']   \n",
        "print(\"Some cool tv shows to watch\")\n",
        "for coolshows in tvshows[:2]:\n",
        "  print(coolshows.title())\n"
      ],
      "metadata": {
        "colab": {
          "base_uri": "https://localhost:8080/"
        },
        "id": "QpYMjhsGg51-",
        "outputId": "7f65fc1e-d7d4-451d-de69-ed06a33ff483"
      },
      "execution_count": null,
      "outputs": [
        {
          "output_type": "stream",
          "name": "stdout",
          "text": [
            "Some cool tv shows to watch\n",
            "Star Trek\n",
            "Walking Dead\n"
          ]
        }
      ]
    },
    {
      "cell_type": "markdown",
      "source": [
        "looping through the slice\n"
      ],
      "metadata": {
        "id": "CjXcxsjBgzXn"
      }
    },
    {
      "cell_type": "markdown",
      "source": [
        "#Control Flow  Conditional logics, loops and control flow concepts - page 37"
      ],
      "metadata": {
        "id": "SVvhnBDi8ord"
      }
    },
    {
      "cell_type": "code",
      "source": [
        "solarsystem = ['9']\n",
        "for planet in solarsystem: \n",
        "  if planet == '9':\n",
        "    print('solarsystem')\n",
        "  else:\n",
        "    print('outerspace')\n"
      ],
      "metadata": {
        "colab": {
          "base_uri": "https://localhost:8080/"
        },
        "id": "EfxIYTjyFbOJ",
        "outputId": "66aa0516-1d1c-4be8-9122-7d677b179505"
      },
      "execution_count": null,
      "outputs": [
        {
          "output_type": "stream",
          "name": "stdout",
          "text": [
            "solarsystem\n"
          ]
        }
      ]
    },
    {
      "cell_type": "markdown",
      "source": [
        "#Checking if a value exists in a list "
      ],
      "metadata": {
        "id": "ydp4umaJZAaw"
      }
    },
    {
      "cell_type": "code",
      "source": [
        ""
      ],
      "metadata": {
        "id": "OtfMCx_0NX33"
      },
      "execution_count": null,
      "outputs": []
    },
    {
      "cell_type": "code",
      "source": [
        "#checking if a value exists in a list\n",
        "solar_system = ['Sun','Mercury','Venus']\n",
        "'Venus' in solar_system"
      ],
      "metadata": {
        "id": "bMx8GCr9GJtk",
        "colab": {
          "base_uri": "https://localhost:8080/"
        },
        "outputId": "0f2cecf9-af56-47e2-808f-ed26a41b7523"
      },
      "execution_count": null,
      "outputs": [
        {
          "output_type": "execute_result",
          "data": {
            "text/plain": [
              "True"
            ]
          },
          "metadata": {},
          "execution_count": 16
        }
      ]
    },
    {
      "cell_type": "code",
      "source": [
        "#Check if value exists in a list with statement \n",
        "solar_system = ['Sun','Mercury','Venus']\n",
        "star = 'Sun'\n",
        "if star not in solar_system:\n",
        "  print(star.title() + \" ,was not in the list of bodies in the Solar System.\")"
      ],
      "metadata": {
        "id": "GFqtaicUODq-"
      },
      "execution_count": null,
      "outputs": []
    },
    {
      "cell_type": "code",
      "source": [
        "#numeric comparisons\n",
        "name_number_of_planets = 8\n",
        "if name_number_of_planets > 9:\n",
        "  print(\"Number of planets is 8\")\n",
        "else:\n",
        "    print (\"Number of planets is more than 8\")"
      ],
      "metadata": {
        "colab": {
          "base_uri": "https://localhost:8080/"
        },
        "id": "5elcBoZQPICJ",
        "outputId": "ba986b76-33f6-466d-bc8c-78c63271cb3f"
      },
      "execution_count": null,
      "outputs": [
        {
          "output_type": "stream",
          "name": "stdout",
          "text": [
            "Number of planets is more than 8\n"
          ]
        }
      ]
    },
    {
      "cell_type": "code",
      "source": [
        "#Checking for inequality \n",
        "solar_system = 'gravity'\n",
        "\n",
        "if solar_system != 'gravitational_collapse':\n",
        "   print ('outerspace')"
      ],
      "metadata": {
        "colab": {
          "base_uri": "https://localhost:8080/"
        },
        "id": "beO6rR6PQeP8",
        "outputId": "5acbaa5b-d2e1-4da5-d63b-a2e2a3603887"
      },
      "execution_count": null,
      "outputs": [
        {
          "output_type": "stream",
          "name": "stdout",
          "text": [
            "outerspace\n"
          ]
        }
      ]
    },
    {
      "cell_type": "markdown",
      "source": [
        "Multiple conditions - python accepts keywords to check multiple conditions - using and or operators "
      ],
      "metadata": {
        "id": "_xdHNjZMSU_V"
      }
    },
    {
      "cell_type": "code",
      "source": [
        "#Multiple conditions and or \n",
        "space_solar_system_size = 8\n",
        "space_outerspace_size = 100\n",
        "space_solar_system_size >= 6 or space_outerspace_size >= 7\n",
        "\n",
        "\n"
      ],
      "metadata": {
        "colab": {
          "base_uri": "https://localhost:8080/"
        },
        "id": "mxrHpraxRRGS",
        "outputId": "820041b0-d9db-4f31-be59-3d08445e2a3e"
      },
      "execution_count": null,
      "outputs": [
        {
          "output_type": "execute_result",
          "data": {
            "text/plain": [
              "True"
            ]
          },
          "metadata": {},
          "execution_count": 41
        }
      ]
    },
    {
      "cell_type": "markdown",
      "source": [
        "#simple if statement"
      ],
      "metadata": {
        "id": "EIG8UHYeS1bn"
      }
    },
    {
      "cell_type": "code",
      "source": [
        "age = 19\n",
        "if age >= 18:\n",
        "  print(\"You're old\")"
      ],
      "metadata": {
        "colab": {
          "base_uri": "https://localhost:8080/"
        },
        "id": "pPvigrdUS8t4",
        "outputId": "0253a814-16df-48bd-bcfe-915746a42ec9"
      },
      "execution_count": null,
      "outputs": [
        {
          "output_type": "stream",
          "name": "stdout",
          "text": [
            "You're old\n"
          ]
        }
      ]
    },
    {
      "cell_type": "markdown",
      "source": [
        "#If statements\n"
      ],
      "metadata": {
        "id": "kZVFIZDjTQMG"
      }
    },
    {
      "cell_type": "code",
      "source": [
        "#if else statements\n"
      ],
      "metadata": {
        "id": "ubtdMZ1mTJNv"
      },
      "execution_count": null,
      "outputs": []
    },
    {
      "cell_type": "code",
      "source": [
        ""
      ],
      "metadata": {
        "id": "uEGjLx8ocsFa"
      },
      "execution_count": null,
      "outputs": []
    },
    {
      "cell_type": "markdown",
      "source": [
        "#If elif else "
      ],
      "metadata": {
        "id": "gG6vD-iWbKz5"
      }
    },
    {
      "cell_type": "code",
      "source": [
        "#if=elif-else elif checks another condition testing for more that two possible outcomes\n",
        "age = 32\n",
        "\n",
        "if age < 5:\n",
        "   print(\"Admission price is free\")\n",
        "elif age < 18:\n",
        "  print(\"Admission price is $5\")\n",
        "else:\n",
        "  print(\"Admission price is $10\")     \n",
        "\n"
      ],
      "metadata": {
        "colab": {
          "base_uri": "https://localhost:8080/"
        },
        "id": "1j94RdWnTRwu",
        "outputId": "6832960c-291d-4224-96d4-cc3aaac2abf4"
      },
      "execution_count": null,
      "outputs": [
        {
          "output_type": "stream",
          "name": "stdout",
          "text": [
            "Admission price is $10\n"
          ]
        }
      ]
    },
    {
      "cell_type": "markdown",
      "source": [
        "#a more optimized approach (if elif else  +string)"
      ],
      "metadata": {
        "id": "2W6E3mWkeEMR"
      }
    },
    {
      "cell_type": "code",
      "source": [
        "#more optimized approach (if elif else  +string)"
      ],
      "metadata": {
        "id": "wMnnVPifTaQl"
      },
      "execution_count": null,
      "outputs": []
    },
    {
      "cell_type": "code",
      "source": [
        "age = 17\n",
        "\n",
        "if age  < 4:\n",
        "  price = 0\n",
        "\n",
        "elif age < 18:\n",
        "  price = 5\n",
        "\n",
        "else:\n",
        "  price = 10\n",
        "\n",
        "print (\"Admission price is: \"+str(price))  "
      ],
      "metadata": {
        "colab": {
          "base_uri": "https://localhost:8080/"
        },
        "id": "ptLi7SLjT8ac",
        "outputId": "1a2b43e3-2281-4403-9ea2-f549057c2819"
      },
      "execution_count": null,
      "outputs": [
        {
          "output_type": "stream",
          "name": "stdout",
          "text": [
            "Admission price is: 5\n"
          ]
        }
      ]
    },
    {
      "cell_type": "code",
      "source": [
        " #multiple conditions, checking / testing several conditions - printing 2 lines\n",
        " toppings = ['chocolate','sprinkles']\n",
        "\n",
        " if 'chocolate'in toppings:\n",
        "   print(\"adding chocolate\")\n",
        " if 'sprinkles'in toppings:\n",
        "   print(\"adding spinkles\")  \n",
        " if 'peanuts'in toppings:\n",
        "   print(\"adding peanuts\")  "
      ],
      "metadata": {
        "colab": {
          "base_uri": "https://localhost:8080/"
        },
        "id": "-v2qGid6T85Y",
        "outputId": "38365275-3caa-4690-ecfd-59eb77ce264e"
      },
      "execution_count": null,
      "outputs": [
        {
          "output_type": "stream",
          "name": "stdout",
          "text": [
            "adding chocolate\n",
            "adding spinkles\n"
          ]
        }
      ]
    },
    {
      "cell_type": "markdown",
      "source": [
        "#if-else and for loops"
      ],
      "metadata": {
        "id": "iywD8HspXKDN"
      }
    },
    {
      "cell_type": "code",
      "source": [
        "#using if statements with list  ( will not execute line if false )\n",
        "toppings = ['chocolate' , 'sprinkles']\n",
        "for topping in toppings:\n",
        "    if toppings == 'chocolate':\n",
        "      print(\"All out of chocolate!\")\n",
        "    else:\n",
        "        print(\"Adding the following topping! \" + topping)      "
      ],
      "metadata": {
        "colab": {
          "base_uri": "https://localhost:8080/"
        },
        "id": "vFKHaERsUHIL",
        "outputId": "e739cda6-d421-435d-9dac-7f0e67df05fc"
      },
      "execution_count": null,
      "outputs": [
        {
          "output_type": "stream",
          "name": "stdout",
          "text": [
            "Adding the following topping! chocolate\n",
            "Adding the following topping! sprinkles\n"
          ]
        }
      ]
    },
    {
      "cell_type": "code",
      "source": [
        "\n",
        "\n",
        "\n",
        "\n",
        "\n"
      ],
      "metadata": {
        "id": "LHlB42vXUwVJ"
      },
      "execution_count": null,
      "outputs": []
    },
    {
      "cell_type": "markdown",
      "source": [
        "#Functions \n",
        "Functions allow us\n",
        "to store blocks of\n",
        "code in a bin called a\n",
        "‘function’"
      ],
      "metadata": {
        "id": "yriKNItM9o8T"
      }
    },
    {
      "cell_type": "markdown",
      "source": [
        "#Dictionary\n"
      ],
      "metadata": {
        "id": "QjmhHSeDMdx-"
      }
    },
    {
      "cell_type": "markdown",
      "source": [
        "#Create a dictionary \n",
        "starting with an empty dictionary "
      ],
      "metadata": {
        "id": "z57RCruwqR8g"
      }
    },
    {
      "cell_type": "code",
      "source": [
        "#define the dictionary \n",
        "patient_2 = {}"
      ],
      "metadata": {
        "id": "mrH_YIg6pVxw"
      },
      "execution_count": null,
      "outputs": []
    },
    {
      "cell_type": "code",
      "source": [
        "#then add each key-value pair on its own line\n",
        "patient_2 = {}\n",
        "patient_2['first_name'] = 'Jean'\n",
        "patient_2['last_name'] = 'picard'\n",
        "print(patient_2)"
      ],
      "metadata": {
        "id": "421ciZCznOrT",
        "colab": {
          "base_uri": "https://localhost:8080/"
        },
        "outputId": "5897d0c9-6c5b-4a4b-ae63-953238d9e4c3"
      },
      "execution_count": null,
      "outputs": [
        {
          "output_type": "stream",
          "name": "stdout",
          "text": [
            "{'first_name': 'Jean', 'last_name': 'picard'}\n"
          ]
        }
      ]
    },
    {
      "cell_type": "code",
      "source": [
        "#key value pairs\n",
        "patient_1 = {'first_name' : 'John'}\n",
        "print(patient_1['first_name'])"
      ],
      "metadata": {
        "colab": {
          "base_uri": "https://localhost:8080/"
        },
        "id": "enDx6eFhkCIX",
        "outputId": "ece69d06-34e5-48b8-f068-bb85dbf40455"
      },
      "execution_count": null,
      "outputs": [
        {
          "output_type": "stream",
          "name": "stdout",
          "text": [
            "John\n"
          ]
        }
      ]
    },
    {
      "cell_type": "code",
      "source": [
        "#accessing dictionaries\n",
        "patient_name = patient_1['first_name']\n",
        "print(\"hello there, \" + patient_name)\n"
      ],
      "metadata": {
        "colab": {
          "base_uri": "https://localhost:8080/"
        },
        "id": "6S4cgNk4k9tK",
        "outputId": "34b4c5fd-710e-4f43-f5a2-de5ab8ac9a25"
      },
      "execution_count": null,
      "outputs": [
        {
          "output_type": "stream",
          "name": "stdout",
          "text": [
            "hello there, John\n"
          ]
        }
      ]
    },
    {
      "cell_type": "code",
      "source": [
        "#new key-value pairs To add a new key-value pair, you would give the name of the dictionary followed by the new\n",
        "#key in square brackets along with the new value.\n",
        "patient_1['MRN'] = '00000000'\n",
        "patient_1['Last_exam'] = 'echo'\n",
        "patient_1"
      ],
      "metadata": {
        "colab": {
          "base_uri": "https://localhost:8080/"
        },
        "id": "BcneHn6Clerp",
        "outputId": "b72e5e22-cd5c-4968-9532-4b3cf9208f8e"
      },
      "execution_count": null,
      "outputs": [
        {
          "output_type": "execute_result",
          "data": {
            "text/plain": [
              "{'Last_exam': 'echo', 'MRN': '00000000', 'first_name': 'John'}"
            ]
          },
          "metadata": {},
          "execution_count": 4
        }
      ]
    },
    {
      "cell_type": "code",
      "source": [
        "friends_1 = {'last_name' : 'Jones', 'first_name': 'Henry', 'zipcode' : '10010'}\n",
        "print(friends_1['last_name'])\n",
        "print(friends_1['first_name'])"
      ],
      "metadata": {
        "colab": {
          "base_uri": "https://localhost:8080/"
        },
        "id": "_HsB-gYCMwxp",
        "outputId": "71db9d8f-2992-41d9-baf4-e53ec2b00adc"
      },
      "execution_count": null,
      "outputs": [
        {
          "output_type": "stream",
          "name": "stdout",
          "text": [
            "Jones\n",
            "Henry\n"
          ]
        }
      ]
    },
    {
      "cell_type": "code",
      "source": [
        "glossary_1 = {'variable': 'variable : What is a symbolic name that is a reference or pointer to an object?', 'for_loop': 'for loop : What is used for iterating over a sequence list, a tuple, a dictionary, a set, or a string ?', 'dictionary': 'dictionary: What are used to store data values in key:value pairs?'}\n",
        "print(glossary_1['variable'])\n",
        "print(glossary_1['for_loop'])\n",
        "print(glossary_1['dictionary'])"
      ],
      "metadata": {
        "colab": {
          "base_uri": "https://localhost:8080/"
        },
        "id": "C1ElExb-OoEk",
        "outputId": "86427de5-930e-4b2a-a3e5-62d590e46742"
      },
      "execution_count": null,
      "outputs": [
        {
          "output_type": "stream",
          "name": "stdout",
          "text": [
            "variable : What is a symbolic name that is a reference or pointer to an object?\n",
            "for loop : What is used for iterating over a sequence list, a tuple, a dictionary, a set, or a string ?\n",
            "dictionary: What are used to store data values in key:value pairs?\n"
          ]
        }
      ]
    },
    {
      "cell_type": "code",
      "source": [
        ""
      ],
      "metadata": {
        "id": "V7nImXByRrBY"
      },
      "execution_count": null,
      "outputs": []
    },
    {
      "cell_type": "markdown",
      "source": [
        ""
      ],
      "metadata": {
        "id": "XFpZ0XpvUqPu"
      }
    },
    {
      "cell_type": "code",
      "source": [
        "patient_1 = {'first_name': ''}"
      ],
      "metadata": {
        "id": "5EmlD4VRWphl"
      },
      "execution_count": null,
      "outputs": []
    },
    {
      "cell_type": "markdown",
      "source": [
        "#Looping\n",
        "*looping* through a dictionary can work with a few lines of data to millions of rows of data.\n",
        "\n",
        "This method includes the name\n",
        "of the dictionary, plus the items()\n",
        "method – which returns a list of\n",
        "key-value pairs.\n",
        "\n",
        "backslashes \\ used to break the string up across multiple lines"
      ],
      "metadata": {
        "id": "PMsNrPasW5w_"
      }
    },
    {
      "cell_type": "code",
      "source": [
        "#includes the name of the dictionary, plus the items() method – which returns a list of key-value pairs.\n",
        "patient_3 = {\n",
        "    'name':'jack' ,\n",
        "    'last_name' : 'sparrow',\n",
        "    'mrn' : '001234567',\n",
        "    'dob': '02231845'}\n",
        "for key, value in patient_3.items():\n",
        "  print(\"\\nkey: \" + key)\n",
        "  print(\"\\nvalue: \" + value)"
      ],
      "metadata": {
        "colab": {
          "base_uri": "https://localhost:8080/"
        },
        "id": "Zp9Usr5GW-oe",
        "outputId": "6cb9cc42-f5f9-41f0-b48a-72a174966bb0"
      },
      "execution_count": null,
      "outputs": [
        {
          "output_type": "stream",
          "name": "stdout",
          "text": [
            "\n",
            "key: name\n",
            "\n",
            "value: jack\n",
            "\n",
            "key: last_name\n",
            "\n",
            "value: sparrow\n",
            "\n",
            "key: mrn\n",
            "\n",
            "value: 001234567\n",
            "\n",
            "key: dob\n",
            "\n",
            "value: 02231845\n"
          ]
        }
      ]
    },
    {
      "cell_type": "code",
      "source": [
        ""
      ],
      "metadata": {
        "id": "BgNccdgzaVBB"
      },
      "execution_count": null,
      "outputs": []
    },
    {
      "cell_type": "markdown",
      "source": [
        "#Looping** for Keys in **only method \n",
        "is used when you only need to use the key portion of the dictionary "
      ],
      "metadata": {
        "id": "lGWHaS9maUwv"
      }
    },
    {
      "cell_type": "code",
      "source": [
        "# for keys in only method\n",
        "patient_3 = {\n",
        "    'name':'jack' ,\n",
        "    'last_name' : 'sparrow',\n",
        "    'mrn' : '001234567',\n",
        "    'dob': '02231845'}\n",
        "for keys in patient_3.keys():\n",
        "  print(keys)\n"
      ],
      "metadata": {
        "colab": {
          "base_uri": "https://localhost:8080/"
        },
        "id": "jl1f_RxOvvOR",
        "outputId": "2dec9c70-b036-4e98-8ba3-434afa7d35c7"
      },
      "execution_count": null,
      "outputs": [
        {
          "output_type": "stream",
          "name": "stdout",
          "text": [
            "name\n",
            "last_name\n",
            "mrn\n",
            "dob\n"
          ]
        }
      ]
    },
    {
      "cell_type": "markdown",
      "source": [
        "#Working with keys\n",
        "fav_friends slide 18"
      ],
      "metadata": {
        "id": "b5fFEL2Kwi_x"
      }
    },
    {
      "cell_type": "markdown",
      "source": [
        "\n",
        "\n",
        "```\n",
        "`# This is formatted as code`\n",
        "``` \n",
        "\n",
        "#While loop\n",
        "used to search through data while a certain condition is true."
      ],
      "metadata": {
        "id": "aPi935j9W-c_"
      }
    },
    {
      "cell_type": "code",
      "source": [
        "number =1 \n",
        "while number <= 5:\n",
        "  print(number)\n",
        "  number+= 1"
      ],
      "metadata": {
        "colab": {
          "base_uri": "https://localhost:8080/"
        },
        "id": "uYNYjtN5aWsZ",
        "outputId": "54d323bf-5a47-4fc1-8af1-7b0948d6ba1e"
      },
      "execution_count": null,
      "outputs": [
        {
          "output_type": "stream",
          "name": "stdout",
          "text": [
            "1\n",
            "2\n",
            "3\n",
            "4\n",
            "5\n"
          ]
        }
      ]
    },
    {
      "cell_type": "markdown",
      "source": [
        "# User input function "
      ],
      "metadata": {
        "id": "UBJ0EU2zyGLg"
      }
    },
    {
      "cell_type": "code",
      "source": [
        "#input function\n",
        "message = input(\"Please enter your first name\")\n",
        "print(message)"
      ],
      "metadata": {
        "colab": {
          "base_uri": "https://localhost:8080/"
        },
        "id": "8rHNp-M0ahhE",
        "outputId": "f70bc2c9-0273-446b-fa10-8854c7100417"
      },
      "execution_count": null,
      "outputs": [
        {
          "output_type": "stream",
          "name": "stdout",
          "text": [
            "Please enter your first nameTonya\n",
            "Tonya\n"
          ]
        }
      ]
    },
    {
      "cell_type": "code",
      "source": [
        "#Combine the while loop and input function to break a iteration\n",
        "prompt = \"Input a message. I will repeat it until you type 'quit'\"\n",
        "message = \"\"\n",
        "\n",
        "while message != 'quit':\n",
        "  message = input(prompt)\n",
        "\n",
        "  print(message)"
      ],
      "metadata": {
        "colab": {
          "base_uri": "https://localhost:8080/"
        },
        "id": "thySCIN4bNxx",
        "outputId": "89af6f1c-1463-4f86-bebd-8198e66ffd67"
      },
      "execution_count": null,
      "outputs": [
        {
          "output_type": "stream",
          "name": "stdout",
          "text": [
            "Input a message. I will repeat it until you type 'quit'quit\n",
            "quit\n"
          ]
        }
      ]
    },
    {
      "cell_type": "code",
      "source": [
        ""
      ],
      "metadata": {
        "id": "QM9bJH_3by5v"
      },
      "execution_count": null,
      "outputs": []
    },
    {
      "cell_type": "markdown",
      "source": [
        "# Flags with while loops to signal Python to stop a loop"
      ],
      "metadata": {
        "id": "18_fOMFkcQEF"
      }
    },
    {
      "cell_type": "code",
      "source": [
        "prompt = \"Input a message. I will repeat it until you type 'quit'\"\n",
        "message = \"\"\n",
        "\n",
        "active = True\n",
        "while active:\n",
        "   message = input(prompt)\n",
        "\n",
        "   if message = 'quit':\n",
        "      active = False\n",
        "     \n",
        "   else: \n",
        "     print(message)\n",
        "     \n"
      ],
      "metadata": {
        "id": "A4vh9-l0cU5D",
        "colab": {
          "base_uri": "https://localhost:8080/",
          "height": 133
        },
        "outputId": "b6d86771-67fe-41e2-bb7d-c68828a1c743"
      },
      "execution_count": null,
      "outputs": [
        {
          "output_type": "error",
          "ename": "SyntaxError",
          "evalue": "ignored",
          "traceback": [
            "\u001b[0;36m  File \u001b[0;32m\"<ipython-input-46-c774a02a4346>\"\u001b[0;36m, line \u001b[0;32m8\u001b[0m\n\u001b[0;31m    if message = 'quit':\u001b[0m\n\u001b[0m               ^\u001b[0m\n\u001b[0;31mSyntaxError\u001b[0m\u001b[0;31m:\u001b[0m invalid syntax\n"
          ]
        }
      ]
    },
    {
      "cell_type": "code",
      "source": [
        ""
      ],
      "metadata": {
        "id": "xkuZpIVF0c0s"
      },
      "execution_count": null,
      "outputs": []
    },
    {
      "cell_type": "markdown",
      "source": [
        "#Functions "
      ],
      "metadata": {
        "id": "pIk9Q528rdT_"
      }
    },
    {
      "cell_type": "code",
      "source": [
        "def greeting():\n",
        "  \"\"\"This function displays a greeting\"\"\"\n",
        "print(\"hello there!\")"
      ],
      "metadata": {
        "colab": {
          "base_uri": "https://localhost:8080/"
        },
        "id": "UCo7P-oXrkIi",
        "outputId": "901fd255-ddf4-4b08-9241-dc709cc27593"
      },
      "execution_count": null,
      "outputs": [
        {
          "output_type": "stream",
          "name": "stdout",
          "text": [
            "hello there!\n"
          ]
        }
      ]
    },
    {
      "cell_type": "markdown",
      "source": [
        ""
      ],
      "metadata": {
        "id": "pbr0heffrgxh"
      }
    },
    {
      "cell_type": "code",
      "source": [
        "  #passing an argument into the function\n",
        "  def greeting(name):\n",
        "      \"\"\"This function displays a greetng\"\"\"\n",
        "      print(\"hello there, \" + name + \"!\")\n"
      ],
      "metadata": {
        "id": "XcjJTqDJsHyQ"
      },
      "execution_count": null,
      "outputs": []
    },
    {
      "cell_type": "code",
      "source": [
        ""
      ],
      "metadata": {
        "id": "vT0Hz-o3sfUW"
      },
      "execution_count": null,
      "outputs": []
    },
    {
      "cell_type": "code",
      "source": [
        ""
      ],
      "metadata": {
        "id": "Vw-ngWoGs8yh"
      },
      "execution_count": null,
      "outputs": []
    },
    {
      "cell_type": "code",
      "source": [
        "#print two statements\n",
        "def my_fucntion(age):"
      ],
      "metadata": {
        "id": "GZkCyM7duGaK"
      },
      "execution_count": null,
      "outputs": []
    },
    {
      "cell_type": "markdown",
      "source": [
        "# Parameters"
      ],
      "metadata": {
        "id": "Rc0tel6MuqDI"
      }
    },
    {
      "cell_type": "code",
      "source": [
        "#statment in the function\n",
        "#enter arguments into the function\n",
        "def greeting_2(first,last):\n",
        "    \"\"\"Greets someone by first and last\"\"\"\n",
        "    print(\"Hello there,\" + first + \" \" + last)  \n",
        "\n",
        "greeting_2('Paul','John')"
      ],
      "metadata": {
        "colab": {
          "base_uri": "https://localhost:8080/"
        },
        "id": "qM9glTiBut8N",
        "outputId": "3f0b7d4c-e516-4ee6-f28d-f3f40bffcf8c"
      },
      "execution_count": null,
      "outputs": [
        {
          "output_type": "stream",
          "name": "stdout",
          "text": [
            "Hello there,Paul John\n"
          ]
        }
      ]
    },
    {
      "cell_type": "code",
      "source": [
        ""
      ],
      "metadata": {
        "id": "BoLF4TzOv07E"
      },
      "execution_count": null,
      "outputs": []
    },
    {
      "cell_type": "code",
      "source": [
        ""
      ],
      "metadata": {
        "id": "Rxbyl3ATviCv"
      },
      "execution_count": null,
      "outputs": []
    },
    {
      "cell_type": "markdown",
      "source": [
        "#Multiple Function Calls"
      ],
      "metadata": {
        "id": "riT3GPjovvOD"
      }
    },
    {
      "cell_type": "markdown",
      "source": [
        "#Function Calls"
      ],
      "metadata": {
        "id": "UgpVJHm1v1_C"
      }
    },
    {
      "cell_type": "code",
      "source": [
        "#positional argument \n",
        "def greeting_2(first,last,age):\n",
        "  \"\"\"Greets someone by first and last\"\"\"\n",
        "   "
      ],
      "metadata": {
        "id": "7NtQd_Dav2tR"
      },
      "execution_count": null,
      "outputs": []
    },
    {
      "cell_type": "code",
      "source": [
        "#default values\n",
        "def greeting_2(first,name,age=23):\n",
        "    \"\"\"Greets someone by first and last\"\"\"\n"
      ],
      "metadata": {
        "id": "Q8SMHAujwWL7"
      },
      "execution_count": null,
      "outputs": []
    },
    {
      "cell_type": "code",
      "source": [
        "#exercise \n",
        "def greeting_1(city,country):\n",
        "    \"\"\"Greets person by city and country\"\"\"\n",
        "print(\"I live in \" + city + \"\" + country)\n",
        "  \n",
        "greeting_1(city = \"New York\", country = 'USA')\n",
        "greeting_1(city = \"Minneapolis\", country ='USA')\n"
      ],
      "metadata": {
        "colab": {
          "base_uri": "https://localhost:8080/",
          "height": 241
        },
        "id": "DBVRVjvIwoxD",
        "outputId": "22987cd7-2fe1-426a-fb4e-063627aecdfb"
      },
      "execution_count": null,
      "outputs": [
        {
          "output_type": "error",
          "ename": "NameError",
          "evalue": "ignored",
          "traceback": [
            "\u001b[0;31m---------------------------------------------------------------------------\u001b[0m",
            "\u001b[0;31mNameError\u001b[0m                                 Traceback (most recent call last)",
            "\u001b[0;32m<ipython-input-25-342fac85a130>\u001b[0m in \u001b[0;36m<module>\u001b[0;34m()\u001b[0m\n\u001b[1;32m      2\u001b[0m \u001b[0;32mdef\u001b[0m \u001b[0mgreeting_1\u001b[0m\u001b[0;34m(\u001b[0m\u001b[0mcity\u001b[0m\u001b[0;34m,\u001b[0m\u001b[0mcountry\u001b[0m\u001b[0;34m)\u001b[0m\u001b[0;34m:\u001b[0m\u001b[0;34m\u001b[0m\u001b[0;34m\u001b[0m\u001b[0m\n\u001b[1;32m      3\u001b[0m     \u001b[0;34m\"\"\"Greets person by city and country\"\"\"\u001b[0m\u001b[0;34m\u001b[0m\u001b[0;34m\u001b[0m\u001b[0m\n\u001b[0;32m----> 4\u001b[0;31m \u001b[0mprint\u001b[0m\u001b[0;34m(\u001b[0m\u001b[0;34m\"I live in \"\u001b[0m \u001b[0;34m+\u001b[0m \u001b[0mcity\u001b[0m \u001b[0;34m+\u001b[0m \u001b[0;34m\"\"\u001b[0m \u001b[0;34m+\u001b[0m \u001b[0mcountry\u001b[0m\u001b[0;34m)\u001b[0m\u001b[0;34m\u001b[0m\u001b[0;34m\u001b[0m\u001b[0m\n\u001b[0m\u001b[1;32m      5\u001b[0m \u001b[0;34m\u001b[0m\u001b[0m\n\u001b[1;32m      6\u001b[0m \u001b[0mgreeting_1\u001b[0m\u001b[0;34m(\u001b[0m\u001b[0mcity\u001b[0m \u001b[0;34m=\u001b[0m \u001b[0;34m\"New York\"\u001b[0m\u001b[0;34m,\u001b[0m \u001b[0mcountry\u001b[0m \u001b[0;34m=\u001b[0m \u001b[0;34m'USA'\u001b[0m\u001b[0;34m)\u001b[0m\u001b[0;34m\u001b[0m\u001b[0;34m\u001b[0m\u001b[0m\n",
            "\u001b[0;31mNameError\u001b[0m: name 'city' is not defined"
          ]
        }
      ]
    },
    {
      "cell_type": "code",
      "source": [
        ""
      ],
      "metadata": {
        "id": "h5GiJtV1zgJ-"
      },
      "execution_count": null,
      "outputs": []
    },
    {
      "cell_type": "code",
      "source": [
        ""
      ],
      "metadata": {
        "id": "LLlTn1011DHQ"
      },
      "execution_count": null,
      "outputs": []
    }
  ]
}